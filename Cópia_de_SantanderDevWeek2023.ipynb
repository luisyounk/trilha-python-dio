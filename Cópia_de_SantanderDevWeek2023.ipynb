{
  "nbformat": 4,
  "nbformat_minor": 0,
  "metadata": {
    "colab": {
      "provenance": [],
      "collapsed_sections": [
        "kNuP0SDUZMBY"
      ],
      "include_colab_link": true
    },
    "kernelspec": {
      "name": "python3",
      "display_name": "Python 3"
    },
    "language_info": {
      "name": "python"
    }
  },
  "cells": [
    {
      "cell_type": "markdown",
      "metadata": {
        "id": "view-in-github",
        "colab_type": "text"
      },
      "source": [
        "<a href=\"https://colab.research.google.com/github/luisyounk/trilha-python-dio/blob/main/C%C3%B3pia_de_SantanderDevWeek2023.ipynb\" target=\"_parent\"><img src=\"https://colab.research.google.com/assets/colab-badge.svg\" alt=\"Open In Colab\"/></a>"
      ]
    },
    {
      "cell_type": "markdown",
      "source": [
        "# Santander Dev Week 2023 (ETL com Python)"
      ],
      "metadata": {
        "id": "BPJQsTCULaC-"
      }
    },
    {
      "cell_type": "markdown",
      "source": [
        "**Contexto:** Você é um cientista de dados no Santander e recebeu a tarefa de envolver seus clientes de maneira mais personalizada. Seu objetivo é usar o poder da IA Generativa para criar mensagens de marketing personalizadas que serão entregues a cada cliente.\n",
        "\n",
        "**Condições do Problema:**\n",
        "\n",
        "1. Você recebeu uma planilha simples, em formato CSV ('SDW2023.csv'), com uma lista de IDs de usuário do banco:\n",
        "  ```\n",
        "  UserID\n",
        "  1\n",
        "  2\n",
        "  3\n",
        "  4\n",
        "  5\n",
        "  ```\n",
        "2. Seu trabalho é consumir o endpoint `GET https://sdw-2023-prd.up.railway.app/users/{id}` (API da Santander Dev Week 2023) para obter os dados de cada cliente.\n",
        "3. Depois de obter os dados dos clientes, você vai usar a API do ChatGPT (OpenAI) para gerar uma mensagem de marketing personalizada para cada cliente. Essa mensagem deve enfatizar a importância dos investimentos.\n",
        "4. Uma vez que a mensagem para cada cliente esteja pronta, você vai enviar essas informações de volta para a API, atualizando a lista de \"news\" de cada usuário usando o endpoint `PUT https://sdw-2023-prd.up.railway.app/users/{id}`.\n",
        "\n"
      ],
      "metadata": {
        "id": "k5fA5OrXt1a3"
      }
    },
    {
      "cell_type": "markdown",
      "source": [
        "# Nova seção"
      ],
      "metadata": {
        "id": "3giPn4LWBYWS"
      }
    },
    {
      "cell_type": "code",
      "source": [
        "# Utilize sua própria URL se quiser ;)\n",
        "# Repositório da API: https://github.com/digitalinnovationone/santander-dev-week-2023-api\n",
        "sdw2023_api_url = 'https://sdw-2023-prd.up.railway.app'"
      ],
      "metadata": {
        "id": "FKqLC_CWoYqR"
      },
      "execution_count": 2,
      "outputs": []
    },
    {
      "cell_type": "markdown",
      "source": [
        "## **E**xtract\n",
        "\n",
        "Extraia a lista de IDs de usuário a partir do arquivo CSV. Para cada ID, faça uma requisição GET para obter os dados do usuário correspondente."
      ],
      "metadata": {
        "id": "9dfI-o7gLRq9"
      }
    },
    {
      "cell_type": "code",
      "execution_count": 8,
      "metadata": {
        "id": "NYydpX_GLRCB",
        "colab": {
          "base_uri": "https://localhost:8080/"
        },
        "outputId": "0c21861a-ead1-4f57-918f-61e376f7cd23"
      },
      "outputs": [
        {
          "output_type": "stream",
          "name": "stdout",
          "text": [
            "[362, 373, 372]\n"
          ]
        }
      ],
      "source": [
        "import pandas as pd\n",
        "\n",
        "df = pd.read_csv('santander_bootcamp2023.csv')\n",
        "user_ids = df['UserID'].tolist()\n",
        "print(user_ids)"
      ]
    },
    {
      "cell_type": "code",
      "source": [
        "import requests\n",
        "import json\n",
        "\n",
        "def get_user(id):\n",
        "  response = requests.get(f'{sdw2023_api_url}/users/{id}')\n",
        "  return response.json() if response.status_code == 200 else None\n",
        "\n",
        "users = [user for id in user_ids if (user := get_user(id)) is not None]\n",
        "print(json.dumps(users, indent=2))"
      ],
      "metadata": {
        "id": "F5XOuCZGSTGw",
        "colab": {
          "base_uri": "https://localhost:8080/"
        },
        "outputId": "6684e876-3bf4-4655-f14f-c28005b91949"
      },
      "execution_count": 11,
      "outputs": [
        {
          "output_type": "stream",
          "name": "stdout",
          "text": [
            "[\n",
            "  {\n",
            "    \"id\": 362,\n",
            "    \"name\": \"luisinho\",\n",
            "    \"account\": {\n",
            "      \"id\": 371,\n",
            "      \"number\": \"1234-0\",\n",
            "      \"agency\": \"1\",\n",
            "      \"balance\": 0.0,\n",
            "      \"limit\": 0.0\n",
            "    },\n",
            "    \"card\": {\n",
            "      \"id\": 350,\n",
            "      \"number\": \"**** **** **** 4321\",\n",
            "      \"limit\": 0.0\n",
            "    },\n",
            "    \"features\": [\n",
            "      {\n",
            "        \"id\": 127,\n",
            "        \"icon\": \"string\",\n",
            "        \"description\": \"string\"\n",
            "      }\n",
            "    ],\n",
            "    \"news\": [\n",
            "      {\n",
            "        \"id\": 1339,\n",
            "        \"icon\": \"string\",\n",
            "        \"description\": \"string\"\n",
            "      }\n",
            "    ]\n",
            "  },\n",
            "  {\n",
            "    \"id\": 373,\n",
            "    \"name\": \"luisao\",\n",
            "    \"account\": {\n",
            "      \"id\": 382,\n",
            "      \"number\": \"52148-0\",\n",
            "      \"agency\": \"254-5\",\n",
            "      \"balance\": 0.0,\n",
            "      \"limit\": 0.0\n",
            "    },\n",
            "    \"card\": {\n",
            "      \"id\": 361,\n",
            "      \"number\": \"**** **** **** 1585\",\n",
            "      \"limit\": 500.0\n",
            "    },\n",
            "    \"features\": [\n",
            "      {\n",
            "        \"id\": 131,\n",
            "        \"icon\": \"string\",\n",
            "        \"description\": \"string\"\n",
            "      }\n",
            "    ],\n",
            "    \"news\": [\n",
            "      {\n",
            "        \"id\": 1366,\n",
            "        \"icon\": \"string\",\n",
            "        \"description\": \"string\"\n",
            "      }\n",
            "    ]\n",
            "  },\n",
            "  {\n",
            "    \"id\": 372,\n",
            "    \"name\": \"xandao\",\n",
            "    \"account\": {\n",
            "      \"id\": 381,\n",
            "      \"number\": \"52147-0\",\n",
            "      \"agency\": \"254-5\",\n",
            "      \"balance\": 0.0,\n",
            "      \"limit\": 0.0\n",
            "    },\n",
            "    \"card\": {\n",
            "      \"id\": 360,\n",
            "      \"number\": \"**** **** **** 1545\",\n",
            "      \"limit\": 500.0\n",
            "    },\n",
            "    \"features\": [\n",
            "      {\n",
            "        \"id\": 130,\n",
            "        \"icon\": \"string\",\n",
            "        \"description\": \"string\"\n",
            "      }\n",
            "    ],\n",
            "    \"news\": [\n",
            "      {\n",
            "        \"id\": 1365,\n",
            "        \"icon\": \"string\",\n",
            "        \"description\": \"string\"\n",
            "      }\n",
            "    ]\n",
            "  }\n",
            "]\n"
          ]
        }
      ]
    },
    {
      "cell_type": "markdown",
      "source": [
        "## **T**ransform\n",
        "\n",
        "Utilize a API do OpenAI GPT-4 para gerar uma mensagem de marketing personalizada para cada usuário.\n",
        "\n",
        "MUDANÇA\n",
        "\n",
        "Como minha API da OpenAI estava esgotada e não poderia realizar mais consultas, utilizei uma API de versos bíblicos para gerar um verso bíblico para cada usuário."
      ],
      "metadata": {
        "id": "cWoqInB4TF1x"
      }
    },
    {
      "cell_type": "code",
      "source": [
        "#API DE VERSOS BIBLÍCOS UTILIZADA\n",
        "\n",
        "https://www.abibliadigital.com.br/api/verses/nvi/random\n",
        "\n"
      ],
      "metadata": {
        "id": "Fv4c86r_U9AJ"
      },
      "execution_count": null,
      "outputs": []
    },
    {
      "cell_type": "code",
      "source": [
        "import requests\n",
        "import json\n",
        "\n",
        "def get_user(id):\n",
        "  response = requests.get(f'{sdw2023_api_url}/users/{id}')\n",
        "  return response.json() if response.status_code == 200 else None\n",
        "\n",
        "users = [user for id in user_ids if (user := get_user(id)) is not None]\n",
        "\n",
        "import requests\n",
        "\n",
        "def fetch_bible_verse():\n",
        "    try:\n",
        "        response = requests.get('https://www.abibliadigital.com.br/api/verses/nvi/random')\n",
        "        response.raise_for_status()\n",
        "        verse = response.json()\n",
        "        formatted_verse = f\"{verse['book']['name']} {verse['chapter']}:{verse['number']} - {verse['text']}\"\n",
        "        return formatted_verse\n",
        "    except requests.exceptions.RequestException as e:\n",
        "        print(\"Ocorreu um erro ao buscar o verso:\", e)\n",
        "        return None\n",
        "\n",
        "for user in users:\n",
        "    bible_verse = fetch_bible_verse()\n",
        "\n",
        "    user_name = user['name']\n",
        "    #print(f\"Nome: {user_name}\")\n",
        "\n",
        "    user['bible_verse'] = bible_verse\n",
        "\n",
        "    # Aqui você pode chamar a função para gerar os versiculos para cada usuário\n",
        "\n",
        "    print(f\"Verso Bíblico para {user_name}: {bible_verse}\")\n",
        "    news = bible_verse\n",
        "    #print(news)\n",
        "    user ['news'].append({\n",
        "      \"icon\": \"https://digitalinnovationone.github.io/santander-dev-week-2023-api/icons/credit.svg\",\n",
        "      \"description\": news\n",
        "    })\n",
        "    # print(f\"Notícia: {news}\")  # Descomente esta linha após a criação da função generate_ai_news\n"
      ],
      "metadata": {
        "id": "n1w78kNxTrZY",
        "colab": {
          "base_uri": "https://localhost:8080/"
        },
        "outputId": "ba867cc6-aae5-4226-cd15-aeb7c4b69f3d"
      },
      "execution_count": 42,
      "outputs": [
        {
          "output_type": "stream",
          "name": "stdout",
          "text": [
            "Verso Bíblico para luisinho: Oséias 12:2 - O Senhor tem uma acusação contra Judá, e vai castigar Jacó de acordo com os seus caminhos; de acordo com suas ações lhe retribuirá.\n",
            "Verso Bíblico para luisao: 1ª Tessalonicenses 5:1 - Irmãos, quanto aos tempos e épocas, não precisamos escrever-lhes,\n",
            "Verso Bíblico para xandao: Colossenses 1:24 - Agora me alegro em meus sofrimentos por vocês, e completo no meu corpo o que resta das aflições de Cristo, em favor do seu corpo, que é a igreja.\n"
          ]
        }
      ]
    },
    {
      "cell_type": "markdown",
      "source": [
        "## **L**oad\n",
        "\n",
        "Atualize a lista de \"news\" de cada usuário na API com a nova mensagem gerada."
      ],
      "metadata": {
        "id": "kNuP0SDUZMBY"
      }
    },
    {
      "cell_type": "code",
      "source": [
        "def update_user(user):\n",
        "  response = requests.put(f\"{sdw2023_api_url}/users/{user['id']}\", json=user)\n",
        "  return True if response.status_code == 200 else False\n",
        "\n",
        "for user in users:\n",
        "  success = update_user(user)\n",
        "  print(f\"User {user['name']} updated? {success}!\")"
      ],
      "metadata": {
        "id": "YefWfYBoZMN2",
        "colab": {
          "base_uri": "https://localhost:8080/"
        },
        "outputId": "378fccd0-b4a1-4464-e27b-5190b688d820"
      },
      "execution_count": 43,
      "outputs": [
        {
          "output_type": "stream",
          "name": "stdout",
          "text": [
            "User luisinho updated? True!\n",
            "User luisao updated? True!\n",
            "User xandao updated? True!\n"
          ]
        }
      ]
    }
  ]
}